{
 "cells": [
  {
   "cell_type": "code",
   "execution_count": 13,
   "id": "416f4cb7",
   "metadata": {},
   "outputs": [],
   "source": [
    "from ctypes.wintypes import WORD\n",
    "from email import message\n",
    "from selenium import webdriver\n",
    "from selenium.webdriver.chrome.service import Service\n",
    "from selenium.webdriver.support.wait import WebDriverWait\n",
    "from selenium.webdriver.support import expected_conditions as EC\n",
    "from selenium.webdriver.common.action_chains import ActionChains\n",
    "from selenium.webdriver.common.by import By\n",
    "import time\n",
    "from bs4 import BeautifulSoup as Soup\n",
    "import os\n",
    "import random, string\n",
    "import requests\n",
    "from webdriver_manager.chrome import ChromeDriverManager\n"
   ]
  },
  {
   "cell_type": "code",
   "execution_count": 26,
   "id": "ae5d64b4",
   "metadata": {},
   "outputs": [],
   "source": [
    "url = 'https://www.bsportstest.com/'  "
   ]
  },
  {
   "cell_type": "code",
   "execution_count": 27,
   "id": "81982c8a",
   "metadata": {},
   "outputs": [
    {
     "name": "stderr",
     "output_type": "stream",
     "text": [
      "C:\\Users\\Allen\\AppData\\Local\\Temp\\ipykernel_17516\\4259190665.py:1: DeprecationWarning: executable_path has been deprecated, please pass in a Service object\n",
      "  browser = webdriver.Chrome(ChromeDriverManager().install())\n"
     ]
    }
   ],
   "source": [
    "browser = webdriver.Chrome(ChromeDriverManager().install())\n",
    "browser.get(url)\n"
   ]
  },
  {
   "cell_type": "code",
   "execution_count": 21,
   "id": "b8fd9886",
   "metadata": {},
   "outputs": [
    {
     "ename": "NameError",
     "evalue": "name 'account' is not defined",
     "output_type": "error",
     "traceback": [
      "\u001b[1;31m---------------------------------------------------------------------------\u001b[0m",
      "\u001b[1;31mNameError\u001b[0m                                 Traceback (most recent call last)",
      "Cell \u001b[1;32mIn[21], line 13\u001b[0m\n\u001b[0;32m     11\u001b[0m \u001b[38;5;66;03m#輸入帳號密碼\u001b[39;00m\n\u001b[0;32m     12\u001b[0m WebDriverWait(browser, \u001b[38;5;241m30\u001b[39m)\u001b[38;5;241m.\u001b[39muntil(EC\u001b[38;5;241m.\u001b[39mpresence_of_element_located((By\u001b[38;5;241m.\u001b[39mCLASS_NAME, \u001b[38;5;124m'\u001b[39m\u001b[38;5;124mvan-field__control\u001b[39m\u001b[38;5;124m'\u001b[39m)))\n\u001b[1;32m---> 13\u001b[0m browser\u001b[38;5;241m.\u001b[39mfind_elements(By\u001b[38;5;241m.\u001b[39mCLASS_NAME,\u001b[38;5;124m\"\u001b[39m\u001b[38;5;124mvan-field__control\u001b[39m\u001b[38;5;124m\"\u001b[39m)[\u001b[38;5;241m0\u001b[39m]\u001b[38;5;241m.\u001b[39msend_keys(\u001b[43maccount\u001b[49m)\n\u001b[0;32m     14\u001b[0m browser\u001b[38;5;241m.\u001b[39mfind_elements(By\u001b[38;5;241m.\u001b[39mCLASS_NAME,\u001b[38;5;124m\"\u001b[39m\u001b[38;5;124mvan-field__control\u001b[39m\u001b[38;5;124m\"\u001b[39m)[\u001b[38;5;241m1\u001b[39m]\u001b[38;5;241m.\u001b[39msend_keys(password)\n\u001b[0;32m     15\u001b[0m time\u001b[38;5;241m.\u001b[39msleep(\u001b[38;5;241m0.5\u001b[39m)\n",
      "\u001b[1;31mNameError\u001b[0m: name 'account' is not defined"
     ]
    }
   ],
   "source": [
    "#點擊右上角登入\n",
    "WebDriverWait(browser, 30).until(EC.presence_of_element_located((By.CLASS_NAME,'login')))\n",
    "browser.find_element(By.CLASS_NAME,'login').click()\n",
    "time.sleep(0.5)\n",
    "\n",
    "#點選帳號密碼登入\n",
    "WebDriverWait(browser, 30).until(EC.presence_of_element_located((By.CLASS_NAME,\"text-blue\")))\n",
    "browser.find_element(By.CLASS_NAME,\"text-blue\").click()\n",
    "time.sleep(0.5)\n",
    "\n",
    "#輸入帳號密碼\n",
    "WebDriverWait(browser, 30).until(EC.presence_of_element_located((By.CLASS_NAME, 'van-field__control')))\n",
    "browser.find_elements(By.CLASS_NAME,\"van-field__control\")[0].send_keys(account)\n",
    "browser.find_elements(By.CLASS_NAME,\"van-field__control\")[1].send_keys(password)\n",
    "time.sleep(0.5)\n",
    "#點擊登入\n",
    "WebDriverWait(browser, 30).until(EC.presence_of_element_located((By.CLASS_NAME,\"van-button--primary\")))\n",
    "browser.find_elements(By.CLASS_NAME,\"van-button--primary\")[0].click()\n",
    "time.sleep(0.5)"
   ]
  },
  {
   "cell_type": "code",
   "execution_count": 29,
   "id": "82a2155a",
   "metadata": {},
   "outputs": [],
   "source": [
    "browser.switch_to.window(browser.window_handles[1])\n"
   ]
  },
  {
   "cell_type": "code",
   "execution_count": null,
   "id": "fb21647b",
   "metadata": {},
   "outputs": [],
   "source": [
    "account = \"coreycny2\"\n",
    "password = \"1qaz2wsx\""
   ]
  },
  {
   "cell_type": "code",
   "execution_count": null,
   "id": "da510ec1",
   "metadata": {},
   "outputs": [],
   "source": [
    "WebDriverWait(browser, 30).until(EC.presence_of_element_located((By.CLASS_NAME, 'van-field__control')))\n",
    "browser.find_elements(By.CLASS_NAME,\"van-field__control\")[0].send_keys(account)\n",
    "browser.find_elements(By.CLASS_NAME,\"van-field__control\")[1].send_keys(password)"
   ]
  },
  {
   "cell_type": "code",
   "execution_count": null,
   "id": "614eb4b4",
   "metadata": {},
   "outputs": [],
   "source": [
    "WebDriverWait(browser, 30).until(EC.presence_of_element_located((By.CLASS_NAME,\"van-button--primary\")))\n",
    "browser.find_elements(By.CLASS_NAME,\"van-button--primary\")[0].click()"
   ]
  },
  {
   "cell_type": "code",
   "execution_count": 38,
   "id": "10cf267e",
   "metadata": {},
   "outputs": [],
   "source": [
    "\n",
    "game = browser.find_element(By.ID,'EgretCanvas')\n",
    "actions = ActionChains(browser)\n",
    "actions.move_to_element(game).perform()"
   ]
  },
  {
   "cell_type": "code",
   "execution_count": null,
   "id": "af2ba2a2",
   "metadata": {},
   "outputs": [],
   "source": [
    "print(game[1].text)"
   ]
  },
  {
   "cell_type": "code",
   "execution_count": null,
   "id": "b0fd49a8",
   "metadata": {},
   "outputs": [],
   "source": [
    "\n",
    "from datetime import datetime\n",
    "\n",
    "browser.switch_to.window(browser.window_handles[1])\n",
    "browser.find_element(By.CLASS_NAME,\"start-button-inner\")\n",
    "browser.get_screenshot_as_file('.\\\\0511_16_30\\\\'+ game[1].text+\".jpg\")"
   ]
  },
  {
   "cell_type": "code",
   "execution_count": null,
   "id": "2f673251",
   "metadata": {},
   "outputs": [],
   "source": [
    "\n",
    "datetime.now().strftime(\"%m%d_%H:%M\")"
   ]
  },
  {
   "cell_type": "code",
   "execution_count": null,
   "id": "185c3c49",
   "metadata": {},
   "outputs": [],
   "source": []
  },
  {
   "cell_type": "code",
   "execution_count": null,
   "id": "5c679b81",
   "metadata": {},
   "outputs": [],
   "source": [
    "browser.set_window_size(1024, 768)"
   ]
  },
  {
   "cell_type": "code",
   "execution_count": null,
   "id": "6decc616",
   "metadata": {},
   "outputs": [],
   "source": [
    "browser.switch_to.window(browser.window_handles[0])\n",
    "browser.find_elements(By.CLASS_NAME,\"game-item\")[3].click()"
   ]
  },
  {
   "cell_type": "code",
   "execution_count": 1,
   "id": "bda9810a",
   "metadata": {},
   "outputs": [],
   "source": [
    "from module import function\n",
    "from datetime import datetime\n",
    "import os \n",
    "now = str(datetime.now().strftime(\"%m%d_%H_%M\"))\n",
    "os.mkdir(\".\\\\output\\\\\" + now)"
   ]
  },
  {
   "cell_type": "code",
   "execution_count": 4,
   "id": "7e518d17",
   "metadata": {},
   "outputs": [],
   "source": [
    "from module import function"
   ]
  },
  {
   "cell_type": "code",
   "execution_count": 4,
   "id": "7a70bf7c",
   "metadata": {},
   "outputs": [
    {
     "ename": "ValueError",
     "evalue": "Sheet named 'pg' already present in workbook",
     "output_type": "error",
     "traceback": [
      "\u001b[1;31m---------------------------------------------------------------------------\u001b[0m",
      "\u001b[1;31mValueError\u001b[0m                                Traceback (most recent call last)",
      "Cell \u001b[1;32mIn[4], line 1\u001b[0m\n\u001b[1;32m----> 1\u001b[0m \u001b[43mfunction\u001b[49m\u001b[38;5;241;43m.\u001b[39;49m\u001b[43mget_sheet\u001b[49m\u001b[43m(\u001b[49m\u001b[43mnow\u001b[49m\u001b[43m,\u001b[49m\u001b[38;5;124;43m\"\u001b[39;49m\u001b[38;5;124;43mpg\u001b[39;49m\u001b[38;5;124;43m\"\u001b[39;49m\u001b[43m)\u001b[49m\n",
      "File \u001b[1;32mD:\\PG_automation\\module\\function.py:15\u001b[0m, in \u001b[0;36mget_sheet\u001b[1;34m(now, sheetname)\u001b[0m\n\u001b[0;32m     13\u001b[0m wb\u001b[38;5;241m=\u001b[39mapp\u001b[38;5;241m.\u001b[39mbooks\u001b[38;5;241m.\u001b[39mopen(\u001b[38;5;124m\"\u001b[39m\u001b[38;5;124m.\u001b[39m\u001b[38;5;130;01m\\\\\u001b[39;00m\u001b[38;5;124moutput\u001b[39m\u001b[38;5;130;01m\\\\\u001b[39;00m\u001b[38;5;124m\"\u001b[39m \u001b[38;5;241m+\u001b[39m now \u001b[38;5;241m+\u001b[39m \u001b[38;5;124m\"\u001b[39m\u001b[38;5;130;01m\\\\\u001b[39;00m\u001b[38;5;124mresult.xlsx\u001b[39m\u001b[38;5;124m\"\u001b[39m)\n\u001b[0;32m     14\u001b[0m new_sheet \u001b[38;5;241m=\u001b[39m wb\u001b[38;5;241m.\u001b[39msheets\u001b[38;5;241m.\u001b[39madd(name\u001b[38;5;241m=\u001b[39msheetname)\n\u001b[1;32m---> 15\u001b[0m new_sheet \u001b[38;5;241m=\u001b[39m \u001b[43mwb\u001b[49m\u001b[38;5;241;43m.\u001b[39;49m\u001b[43msheets\u001b[49m\u001b[38;5;241;43m.\u001b[39;49m\u001b[43madd\u001b[49m\u001b[43m(\u001b[49m\u001b[43mname\u001b[49m\u001b[38;5;241;43m=\u001b[39;49m\u001b[43msheetname\u001b[49m\u001b[43m)\u001b[49m\n\u001b[0;32m     16\u001b[0m sheet \u001b[38;5;241m=\u001b[39m wb\u001b[38;5;241m.\u001b[39msheets[sheetname]\n",
      "File \u001b[1;32m~\\anaconda3\\lib\\site-packages\\xlwings\\main.py:4338\u001b[0m, in \u001b[0;36mSheets.add\u001b[1;34m(self, name, before, after)\u001b[0m\n\u001b[0;32m   4336\u001b[0m \u001b[38;5;28;01mif\u001b[39;00m name \u001b[38;5;129;01mis\u001b[39;00m \u001b[38;5;129;01mnot\u001b[39;00m \u001b[38;5;28;01mNone\u001b[39;00m:\n\u001b[0;32m   4337\u001b[0m     \u001b[38;5;28;01mif\u001b[39;00m name\u001b[38;5;241m.\u001b[39mlower() \u001b[38;5;129;01min\u001b[39;00m (s\u001b[38;5;241m.\u001b[39mname\u001b[38;5;241m.\u001b[39mlower() \u001b[38;5;28;01mfor\u001b[39;00m s \u001b[38;5;129;01min\u001b[39;00m \u001b[38;5;28mself\u001b[39m):\n\u001b[1;32m-> 4338\u001b[0m         \u001b[38;5;28;01mraise\u001b[39;00m \u001b[38;5;167;01mValueError\u001b[39;00m(\u001b[38;5;124m\"\u001b[39m\u001b[38;5;124mSheet named \u001b[39m\u001b[38;5;124m'\u001b[39m\u001b[38;5;132;01m%s\u001b[39;00m\u001b[38;5;124m'\u001b[39m\u001b[38;5;124m already present in workbook\u001b[39m\u001b[38;5;124m\"\u001b[39m \u001b[38;5;241m%\u001b[39m name)\n\u001b[0;32m   4339\u001b[0m \u001b[38;5;28;01mif\u001b[39;00m before \u001b[38;5;129;01mis\u001b[39;00m \u001b[38;5;129;01mnot\u001b[39;00m \u001b[38;5;28;01mNone\u001b[39;00m \u001b[38;5;129;01mand\u001b[39;00m \u001b[38;5;129;01mnot\u001b[39;00m \u001b[38;5;28misinstance\u001b[39m(before, Sheet):\n\u001b[0;32m   4340\u001b[0m     before \u001b[38;5;241m=\u001b[39m \u001b[38;5;28mself\u001b[39m(before)\n",
      "\u001b[1;31mValueError\u001b[0m: Sheet named 'pg' already present in workbook"
     ]
    }
   ],
   "source": [
    "function.get_sheet(now,\"pg\")"
   ]
  },
  {
   "cell_type": "code",
   "execution_count": 7,
   "id": "9c248886",
   "metadata": {},
   "outputs": [
    {
     "ename": "NameError",
     "evalue": "name 'sheet' is not defined",
     "output_type": "error",
     "traceback": [
      "\u001b[1;31m---------------------------------------------------------------------------\u001b[0m",
      "\u001b[1;31mNameError\u001b[0m                                 Traceback (most recent call last)",
      "Cell \u001b[1;32mIn[7], line 1\u001b[0m\n\u001b[1;32m----> 1\u001b[0m \u001b[43msheet\u001b[49m\u001b[38;5;241m.\u001b[39mrange(\u001b[38;5;124m'\u001b[39m\u001b[38;5;124mA2\u001b[39m\u001b[38;5;124m'\u001b[39m)\u001b[38;5;241m.\u001b[39mvalue \u001b[38;5;241m=\u001b[39m \u001b[38;5;124m\"\u001b[39m\u001b[38;5;124maa\u001b[39m\u001b[38;5;124m\"\u001b[39m\n",
      "\u001b[1;31mNameError\u001b[0m: name 'sheet' is not defined"
     ]
    }
   ],
   "source": [
    "sheet.range('A2').value = \"aa\""
   ]
  },
  {
   "cell_type": "code",
   "execution_count": 9,
   "id": "3e1f09c5",
   "metadata": {},
   "outputs": [],
   "source": [
    "import o"
   ]
  },
  {
   "cell_type": "code",
   "execution_count": 10,
   "id": "55fdd4da",
   "metadata": {},
   "outputs": [
    {
     "ename": "AttributeError",
     "evalue": "module 'os' has no attribute 'chair'",
     "output_type": "error",
     "traceback": [
      "\u001b[1;31m---------------------------------------------------------------------------\u001b[0m",
      "\u001b[1;31mAttributeError\u001b[0m                            Traceback (most recent call last)",
      "Cell \u001b[1;32mIn[10], line 1\u001b[0m\n\u001b[1;32m----> 1\u001b[0m \u001b[43mos\u001b[49m\u001b[38;5;241;43m.\u001b[39;49m\u001b[43mchair\u001b[49m(output)\n",
      "\u001b[1;31mAttributeError\u001b[0m: module 'os' has no attribute 'chair'"
     ]
    }
   ],
   "source": []
  },
  {
   "cell_type": "code",
   "execution_count": null,
   "id": "f010e363",
   "metadata": {},
   "outputs": [],
   "source": []
  }
 ],
 "metadata": {
  "kernelspec": {
   "display_name": "Python 3 (ipykernel)",
   "language": "python",
   "name": "python3"
  },
  "language_info": {
   "codemirror_mode": {
    "name": "ipython",
    "version": 3
   },
   "file_extension": ".py",
   "mimetype": "text/x-python",
   "name": "python",
   "nbconvert_exporter": "python",
   "pygments_lexer": "ipython3",
   "version": "3.9.12"
  }
 },
 "nbformat": 4,
 "nbformat_minor": 5
}
